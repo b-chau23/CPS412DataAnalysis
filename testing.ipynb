{
 "cells": [
  {
   "cell_type": "code",
   "execution_count": 47,
   "id": "9237880a-00c8-450d-bb44-8510557fbb93",
   "metadata": {},
   "outputs": [],
   "source": [
    "def odd(lim):\n",
    "    ub, n = 2**16-1, 1\n",
    "    while n <= lim:\n",
    "        yield n\n",
    "        n += 2\n",
    "        if n > ub: return"
   ]
  },
  {
   "cell_type": "code",
   "execution_count": 28,
   "id": "85eb1a75-7dd1-477f-82a7-4bf03fcc01ac",
   "metadata": {},
   "outputs": [
    {
     "data": {
      "text/plain": [
       "<generator object odd at 0x000001FA23975540>"
      ]
     },
     "execution_count": 28,
     "metadata": {},
     "output_type": "execute_result"
    }
   ],
   "source": [
    "odd(20)"
   ]
  },
  {
   "cell_type": "code",
   "execution_count": 29,
   "id": "99614a3c-b949-4d68-ae90-b6c40cf27d32",
   "metadata": {},
   "outputs": [
    {
     "data": {
      "text/plain": [
       "[1, 3, 5, 7, 9, 11, 13, 15, 17, 19]"
      ]
     },
     "execution_count": 29,
     "metadata": {},
     "output_type": "execute_result"
    }
   ],
   "source": [
    "list(odd(20))"
   ]
  },
  {
   "cell_type": "code",
   "execution_count": 30,
   "id": "415bd55c-dea1-4aa4-8e2e-73769bec041c",
   "metadata": {},
   "outputs": [],
   "source": [
    "x = list(odd(20))"
   ]
  },
  {
   "cell_type": "code",
   "execution_count": 31,
   "id": "399c155b-179e-47e0-8987-56c164d3f5f0",
   "metadata": {},
   "outputs": [],
   "source": [
    "def asd(x):\n",
    "    x %= 2\n",
    "    match x:\n",
    "        case 0:\n",
    "            print(\"even\")\n",
    "        case 1:\n",
    "            print(\"odd\")\n",
    "        case other:\n",
    "            print(\"s\")"
   ]
  },
  {
   "cell_type": "code",
   "execution_count": 34,
   "id": "bbf31a73-a5a6-4061-852d-bf80f9c660ed",
   "metadata": {},
   "outputs": [],
   "source": [
    "x = odd(500)"
   ]
  },
  {
   "cell_type": "code",
   "execution_count": 37,
   "id": "80049c37-7823-4763-b1ab-72a7db8a59d5",
   "metadata": {},
   "outputs": [],
   "source": [
    "x = iter(odd(100000))"
   ]
  },
  {
   "cell_type": "code",
   "execution_count": 39,
   "id": "b63ed971-904b-4d5d-b65e-1a991705e19e",
   "metadata": {},
   "outputs": [],
   "source": [
    "def squares(start, stop):\n",
    "    sq = start\n",
    "    while sq < stop:\n",
    "        yield sq*sq\n",
    "        sq += 1"
   ]
  },
  {
   "cell_type": "code",
   "execution_count": 42,
   "id": "d3b421e2-57cb-4bd7-8087-a974257020dc",
   "metadata": {},
   "outputs": [
    {
     "name": "stdout",
     "output_type": "stream",
     "text": [
      "25\n",
      "36\n",
      "49\n",
      "64\n",
      "81\n"
     ]
    }
   ],
   "source": [
    "for n in squares(5, 10):\n",
    "    print(n)"
   ]
  },
  {
   "cell_type": "code",
   "execution_count": 44,
   "id": "2d546ff4-57d5-4162-a308-e97d68d937c8",
   "metadata": {},
   "outputs": [],
   "source": [
    "def s(n):\n",
    "    v = 1\n",
    "    while v <= n:\n",
    "        yield [v] * v\n",
    "        v += 1"
   ]
  },
  {
   "cell_type": "code",
   "execution_count": 45,
   "id": "c061b956-c24c-44f0-8bfa-2e3646ed4beb",
   "metadata": {},
   "outputs": [
    {
     "name": "stdout",
     "output_type": "stream",
     "text": [
      "[1]\n",
      "[2, 2]\n",
      "[3, 3, 3]\n",
      "[4, 4, 4, 4]\n",
      "[5, 5, 5, 5, 5]\n"
     ]
    }
   ],
   "source": [
    "for nt in s(5):\n",
    "    print(nt)"
   ]
  },
  {
   "cell_type": "code",
   "execution_count": 46,
   "id": "e7143ee6-14f5-4d61-89fa-848a26feda97",
   "metadata": {},
   "outputs": [
    {
     "data": {
      "text/plain": [
       "65535"
      ]
     },
     "execution_count": 46,
     "metadata": {},
     "output_type": "execute_result"
    }
   ],
   "source": [
    "2**16-1"
   ]
  },
  {
   "cell_type": "code",
   "execution_count": 5,
   "id": "670d5062-24cc-4849-b0c7-62d55867d49a",
   "metadata": {},
   "outputs": [],
   "source": [
    "file = open(\"Desktop/what.txt\")"
   ]
  },
  {
   "cell_type": "code",
   "execution_count": 6,
   "id": "691ca4df-833b-4c8b-8a32-fc4e6f8bc24a",
   "metadata": {},
   "outputs": [
    {
     "data": {
      "text/plain": [
       "'the first 4 nums in a series are 3 6 9 12, the next number must be 15\\n'"
      ]
     },
     "execution_count": 6,
     "metadata": {},
     "output_type": "execute_result"
    }
   ],
   "source": [
    "file.readline()"
   ]
  },
  {
   "cell_type": "code",
   "execution_count": 29,
   "id": "2305bec7-6196-4e27-8dd6-9d96f8f2d987",
   "metadata": {},
   "outputs": [],
   "source": [
    "def fib():\n",
    "    yield from [1,1]\n",
    "    curr = 2\n",
    "    prev = 1\n",
    "    while True:\n",
    "        yield curr\n",
    "        curr, prev = curr + prev, curr"
   ]
  },
  {
   "cell_type": "code",
   "execution_count": 30,
   "id": "032a9b1d-9481-450d-8f10-3886a510bbba",
   "metadata": {},
   "outputs": [],
   "source": [
    "f1 = fib()\n",
    "f2 = fib()"
   ]
  },
  {
   "cell_type": "code",
   "execution_count": 31,
   "id": "33e1da8b-447a-4b13-968c-b94c2a447473",
   "metadata": {},
   "outputs": [
    {
     "name": "stdout",
     "output_type": "stream",
     "text": [
      "1\n",
      "1\n",
      "2\n",
      "3\n",
      "5\n"
     ]
    }
   ],
   "source": [
    "for x in range(5): print(next(f1))"
   ]
  },
  {
   "cell_type": "code",
   "execution_count": null,
   "id": "19112352-2c58-4cb9-94d5-0e0599023bbc",
   "metadata": {},
   "outputs": [],
   "source": []
  }
 ],
 "metadata": {
  "kernelspec": {
   "display_name": "Python 3 (ipykernel)",
   "language": "python",
   "name": "python3"
  },
  "language_info": {
   "codemirror_mode": {
    "name": "ipython",
    "version": 3
   },
   "file_extension": ".py",
   "mimetype": "text/x-python",
   "name": "python",
   "nbconvert_exporter": "python",
   "pygments_lexer": "ipython3",
   "version": "3.10.4"
  }
 },
 "nbformat": 4,
 "nbformat_minor": 5
}
